{
  "nbformat": 4,
  "nbformat_minor": 0,
  "metadata": {
    "colab": {
      "provenance": [],
      "authorship_tag": "ABX9TyMrb/t5AkgDTr3TtdKvWFOo",
      "include_colab_link": true
    },
    "kernelspec": {
      "name": "python3",
      "display_name": "Python 3"
    },
    "language_info": {
      "name": "python"
    }
  },
  "cells": [
    {
      "cell_type": "markdown",
      "metadata": {
        "id": "view-in-github",
        "colab_type": "text"
      },
      "source": [
        "<a href=\"https://colab.research.google.com/github/vinitakawale/Imbalanced-Data/blob/main/Imbalanced_Data.ipynb\" target=\"_parent\"><img src=\"https://colab.research.google.com/assets/colab-badge.svg\" alt=\"Open In Colab\"/></a>"
      ]
    },
    {
      "cell_type": "code",
      "source": [
        "import pandas as pd\n",
        "import numpy as np\n",
        "from sklearn.datasets import fetch_openml\n",
        "from sklearn.model_selection import train_test_split\n",
        "from sklearn.model_selection import cross_validate\n",
        "from sklearn.linear_model import LogisticRegression\n",
        "from sklearn.tree import DecisionTreeClassifier\n",
        "from sklearn.ensemble import RandomForestClassifier\n",
        "from imblearn.over_sampling import RandomOverSampler\n",
        "from imblearn.under_sampling import RandomUnderSampler\n",
        "from imblearn.over_sampling import SMOTE\n",
        "from sklearn.ensemble import BaggingClassifier\n",
        "from sklearn.metrics import roc_auc_score, roc_curve, auc\n",
        "from sklearn.metrics import confusion_matrix, ConfusionMatrixDisplay\n",
        "from imblearn.pipeline import make_pipeline\n",
        "from sklearn.model_selection import GridSearchCV\n",
        "from sklearn.linear_model import LogisticRegressionCV\n",
        "from sklearn.feature_selection import VarianceThreshold\n",
        "from sklearn.feature_selection import SelectKBest\n",
        "from sklearn.feature_selection import chi2\n",
        "from sklearn.decomposition import PCA\n",
        "from sklearn.preprocessing import StandardScaler\n",
        "\n"
      ],
      "metadata": {
        "id": "HLyPjofZu16b"
      },
      "execution_count": 29,
      "outputs": []
    },
    {
      "cell_type": "markdown",
      "source": [
        "# Step 1: Downloading dataset from open ML repository"
      ],
      "metadata": {
        "id": "dHB2K2q70TUq"
      }
    },
    {
      "cell_type": "code",
      "execution_count": 2,
      "metadata": {
        "colab": {
          "base_uri": "https://localhost:8080/"
        },
        "id": "ZN0gCNIPujRN",
        "outputId": "35a55fa5-646c-47b5-a374-4a76b64a27ca"
      },
      "outputs": [
        {
          "output_type": "stream",
          "name": "stderr",
          "text": [
            "/usr/local/lib/python3.10/dist-packages/sklearn/datasets/_openml.py:968: FutureWarning: The default value of `parser` will change from `'liac-arff'` to `'auto'` in 1.4. You can set `parser='auto'` to silence this warning. Therefore, an `ImportError` will be raised from 1.4 if the dataset is dense and pandas is not installed. Note that the pandas parser may return different data types. See the Notes Section in fetch_openml's API doc for details.\n",
            "  warn(\n"
          ]
        },
        {
          "output_type": "stream",
          "name": "stdout",
          "text": [
            "Value counts -1    10923\n",
            "1       260\n",
            "Name: class, dtype: int64\n",
            "Shape (11183, 6)\n"
          ]
        }
      ],
      "source": [
        "data = fetch_openml(\"mammography\", as_frame=True)\n",
        "\n",
        "X, y = data[\"data\"], data[\"target\"]\n",
        "\n",
        "print(\"Value counts\", y.value_counts())\n",
        "print(\"Shape\", X.shape)\n",
        "\n",
        "\n",
        "\n",
        "\n",
        "\n",
        "\n"
      ]
    },
    {
      "cell_type": "markdown",
      "source": [
        "# Step 2: Split Data into development and test sets"
      ],
      "metadata": {
        "id": "nEkj94Vv0j_Z"
      }
    },
    {
      "cell_type": "code",
      "source": [
        "X_dev, X_test, y_dev, y_test = train_test_split(data.data, data.target == '1', stratify=data.target, test_size=0.2, random_state=42)\n",
        "\n",
        "#Observe imbalance in the ratio\n",
        "y_dev.value_counts(normalize=True)\n",
        "y_test.value_counts(normalize=True)\n",
        "\n",
        "\n",
        "\n"
      ],
      "metadata": {
        "colab": {
          "base_uri": "https://localhost:8080/"
        },
        "id": "PZpfKEXnwbu2",
        "outputId": "0e8ccd36-7d9c-433a-806f-6b693f3cdef0"
      },
      "execution_count": 3,
      "outputs": [
        {
          "output_type": "execute_result",
          "data": {
            "text/plain": [
              "False    0.976755\n",
              "True     0.023245\n",
              "Name: class, dtype: float64"
            ]
          },
          "metadata": {},
          "execution_count": 3
        }
      ]
    },
    {
      "cell_type": "markdown",
      "source": [],
      "metadata": {
        "id": "qsOqotV40xpE"
      }
    },
    {
      "cell_type": "markdown",
      "source": [
        "# Training Classifiers\n",
        "comparing scores for various classifiers on the imbalanced dataset before we apply balancing techniques\n"
      ],
      "metadata": {
        "id": "gRRZAbK91_ZG"
      }
    },
    {
      "cell_type": "code",
      "source": [
        "# Logistic Regression\n",
        "\n",
        "scores = cross_validate(LogisticRegression(), X_dev, y_dev, cv=10, scoring=[\"roc_auc\", \"average_precision\"]);\n",
        "scores[\"test_roc_auc\"].mean(), scores[\"test_average_precision\"].mean()"
      ],
      "metadata": {
        "colab": {
          "base_uri": "https://localhost:8080/"
        },
        "id": "wwRTCNt50xDu",
        "outputId": "3200a88c-19a1-40c9-e819-cb76f0e83c91"
      },
      "execution_count": 4,
      "outputs": [
        {
          "output_type": "execute_result",
          "data": {
            "text/plain": [
              "(0.9047435182719985, 0.6045937994904842)"
            ]
          },
          "metadata": {},
          "execution_count": 4
        }
      ]
    },
    {
      "cell_type": "code",
      "source": [
        "\n",
        "# Random Forest\n",
        "\n",
        "scores = cross_validate(RandomForestClassifier(), X_dev, y_dev, cv=10, scoring=[\"roc_auc\", \"average_precision\"])\n",
        "scores[\"test_roc_auc\"].mean(), scores[\"test_average_precision\"].mean()\n",
        "\n"
      ],
      "metadata": {
        "colab": {
          "base_uri": "https://localhost:8080/"
        },
        "id": "R7emVfR7wbl-",
        "outputId": "2ceadbaf-9c3c-4cc6-bf6d-a617a1e58890"
      },
      "execution_count": 5,
      "outputs": [
        {
          "output_type": "execute_result",
          "data": {
            "text/plain": [
              "(0.9379355114028909, 0.7364237718768207)"
            ]
          },
          "metadata": {},
          "execution_count": 5
        }
      ]
    },
    {
      "cell_type": "markdown",
      "source": [
        "# Applying balancing techniques\n",
        "we will apply various balancing strategies and observe the scores on the imbalanced and balanced datasets"
      ],
      "metadata": {
        "id": "xZ-RL0WEEggY"
      }
    },
    {
      "cell_type": "markdown",
      "source": [
        "# Technique 1: Random Undersampling"
      ],
      "metadata": {
        "id": "-5vVCT28FJKR"
      }
    },
    {
      "cell_type": "code",
      "source": [
        "# Comparing Logistic Regression before and after Random Undersampling\n",
        "\n",
        "rus = RandomUnderSampler(replacement=False, random_state=42)\n",
        "sample_pipe = make_pipeline(rus, LogisticRegression())\n",
        "\n",
        "scores = cross_validate(sample_pipe, X_dev, y_dev, cv=10, scoring=[\"roc_auc\", \"average_precision\"])\n",
        "scores[\"test_roc_auc\"].mean(), scores[\"test_average_precision\"].mean()\n",
        "\n",
        "\n",
        "\n",
        "\n",
        "\n",
        "\n"
      ],
      "metadata": {
        "colab": {
          "base_uri": "https://localhost:8080/"
        },
        "id": "_kNhrNUZE6Ai",
        "outputId": "6415de34-33d9-47df-c833-c2d20ba1ccc8"
      },
      "execution_count": 6,
      "outputs": [
        {
          "output_type": "execute_result",
          "data": {
            "text/plain": [
              "(0.9066396213964862, 0.5874285581950552)"
            ]
          },
          "metadata": {},
          "execution_count": 6
        }
      ]
    },
    {
      "cell_type": "markdown",
      "source": [
        "# Technique 2: Random Oversampling"
      ],
      "metadata": {
        "id": "RUc2QJ0fhzJX"
      }
    },
    {
      "cell_type": "code",
      "source": [
        "\n",
        "ros = RandomOverSampler()\n",
        "X_dev_ros, y_dev_ros = ros.fit_resample(X_dev, y_dev)\n",
        "\n",
        "print(X_dev.shape)\n",
        "print(X_dev_ros.shape)\n",
        "y_dev_ros.value_counts(normalize=True)\n",
        "\n",
        "\n",
        "\n",
        "\n",
        "\n",
        "\n",
        "\n",
        "\n",
        "\n"
      ],
      "metadata": {
        "colab": {
          "base_uri": "https://localhost:8080/"
        },
        "id": "owIBDvxIh5pg",
        "outputId": "27937d8f-cf84-46b9-fd61-87e90b25e55a"
      },
      "execution_count": 7,
      "outputs": [
        {
          "output_type": "stream",
          "name": "stdout",
          "text": [
            "(8946, 6)\n",
            "(17476, 6)\n"
          ]
        },
        {
          "output_type": "execute_result",
          "data": {
            "text/plain": [
              "False    0.5\n",
              "True     0.5\n",
              "Name: class, dtype: float64"
            ]
          },
          "metadata": {},
          "execution_count": 7
        }
      ]
    },
    {
      "cell_type": "code",
      "source": [
        "y_dev_ros.value_counts()"
      ],
      "metadata": {
        "colab": {
          "base_uri": "https://localhost:8080/"
        },
        "id": "7KbyaIiGoi9O",
        "outputId": "8d870cd5-6e15-4a6b-86da-3c0d875bdf87"
      },
      "execution_count": 8,
      "outputs": [
        {
          "output_type": "execute_result",
          "data": {
            "text/plain": [
              "False    8738\n",
              "True     8738\n",
              "Name: class, dtype: int64"
            ]
          },
          "metadata": {},
          "execution_count": 8
        }
      ]
    },
    {
      "cell_type": "code",
      "source": [],
      "metadata": {
        "id": "eVXHXoMyp4A1"
      },
      "execution_count": null,
      "outputs": []
    },
    {
      "cell_type": "code",
      "source": [
        "# Comparing Logistic Regression before and after Random Oversampling\n",
        "\n",
        "ros = RandomOverSampler()\n",
        "sample_pipe = make_pipeline(ros, LogisticRegression())\n",
        "\n",
        "scores = cross_validate(sample_pipe, X_dev, y_dev, cv=10, scoring=[\"roc_auc\", \"average_precision\"])\n",
        "scores[\"test_roc_auc\"].mean(), scores[\"test_average_precision\"].mean()\n",
        "\n",
        "\n"
      ],
      "metadata": {
        "colab": {
          "base_uri": "https://localhost:8080/"
        },
        "id": "H-H_5CMnpK1O",
        "outputId": "3a149dc4-7890-4150-9867-7495d21691aa"
      },
      "execution_count": 9,
      "outputs": [
        {
          "output_type": "execute_result",
          "data": {
            "text/plain": [
              "(0.9110601855440434, 0.5238615232893465)"
            ]
          },
          "metadata": {},
          "execution_count": 9
        }
      ]
    },
    {
      "cell_type": "code",
      "source": [
        "# Comparing Random Forest Classifier before and after Random Oversampling\n",
        "\n",
        "ros = RandomOverSampler()\n",
        "sample_pipe = make_pipeline(ros, RandomForestClassifier())\n",
        "\n",
        "scores = cross_validate(sample_pipe, X_dev, y_dev, cv=10, scoring=[\"roc_auc\", \"average_precision\"])\n",
        "scores[\"test_roc_auc\"].mean(), scores[\"test_average_precision\"].mean()\n"
      ],
      "metadata": {
        "colab": {
          "base_uri": "https://localhost:8080/"
        },
        "id": "dgBMygpPr5l6",
        "outputId": "ff62bf34-c408-478f-ac5d-8694afa30818"
      },
      "execution_count": 10,
      "outputs": [
        {
          "output_type": "execute_result",
          "data": {
            "text/plain": [
              "(0.909809101636256, 0.6999732038173845)"
            ]
          },
          "metadata": {},
          "execution_count": 10
        }
      ]
    },
    {
      "cell_type": "markdown",
      "source": [
        "# 3. Ensemble Resampling"
      ],
      "metadata": {
        "id": "I539CgiXYEDt"
      }
    },
    {
      "cell_type": "code",
      "source": [
        "#Bagging\n",
        "\n",
        "rus = RandomUnderSampler(replacement=False, random_state=42)\n",
        "tree = DecisionTreeClassifier(max_features=\"auto\", random_state=42)\n",
        "under_sampling_bagging = make_pipeline(rus, BaggingClassifier(base_estimator=tree,random_state=42))\n",
        "\n",
        "scores = cross_validate(under_sampling_bagging, X_dev, y_dev, cv=10, scoring=[\"roc_auc\", \"average_precision\"])\n",
        "scores[\"test_roc_auc\"].mean(), scores[\"test_average_precision\"].mean()\n",
        "\n",
        "\n",
        "\n",
        "\n",
        "\n",
        "\n"
      ],
      "metadata": {
        "colab": {
          "base_uri": "https://localhost:8080/"
        },
        "id": "opZh_pnKYI4Y",
        "outputId": "689ff6f7-26b8-45f2-923d-34a4cc734d0c"
      },
      "execution_count": 11,
      "outputs": [
        {
          "output_type": "stream",
          "name": "stderr",
          "text": [
            "/usr/local/lib/python3.10/dist-packages/sklearn/ensemble/_base.py:166: FutureWarning: `base_estimator` was renamed to `estimator` in version 1.2 and will be removed in 1.4.\n",
            "  warnings.warn(\n",
            "/usr/local/lib/python3.10/dist-packages/sklearn/ensemble/_base.py:166: FutureWarning: `base_estimator` was renamed to `estimator` in version 1.2 and will be removed in 1.4.\n",
            "  warnings.warn(\n",
            "/usr/local/lib/python3.10/dist-packages/sklearn/ensemble/_base.py:166: FutureWarning: `base_estimator` was renamed to `estimator` in version 1.2 and will be removed in 1.4.\n",
            "  warnings.warn(\n",
            "/usr/local/lib/python3.10/dist-packages/sklearn/ensemble/_base.py:166: FutureWarning: `base_estimator` was renamed to `estimator` in version 1.2 and will be removed in 1.4.\n",
            "  warnings.warn(\n",
            "/usr/local/lib/python3.10/dist-packages/sklearn/ensemble/_base.py:166: FutureWarning: `base_estimator` was renamed to `estimator` in version 1.2 and will be removed in 1.4.\n",
            "  warnings.warn(\n",
            "/usr/local/lib/python3.10/dist-packages/sklearn/ensemble/_base.py:166: FutureWarning: `base_estimator` was renamed to `estimator` in version 1.2 and will be removed in 1.4.\n",
            "  warnings.warn(\n",
            "/usr/local/lib/python3.10/dist-packages/sklearn/ensemble/_base.py:166: FutureWarning: `base_estimator` was renamed to `estimator` in version 1.2 and will be removed in 1.4.\n",
            "  warnings.warn(\n",
            "/usr/local/lib/python3.10/dist-packages/sklearn/ensemble/_base.py:166: FutureWarning: `base_estimator` was renamed to `estimator` in version 1.2 and will be removed in 1.4.\n",
            "  warnings.warn(\n",
            "/usr/local/lib/python3.10/dist-packages/sklearn/ensemble/_base.py:166: FutureWarning: `base_estimator` was renamed to `estimator` in version 1.2 and will be removed in 1.4.\n",
            "  warnings.warn(\n",
            "/usr/local/lib/python3.10/dist-packages/sklearn/ensemble/_base.py:166: FutureWarning: `base_estimator` was renamed to `estimator` in version 1.2 and will be removed in 1.4.\n",
            "  warnings.warn(\n"
          ]
        },
        {
          "output_type": "execute_result",
          "data": {
            "text/plain": [
              "(0.938411825919198, 0.458717954029249)"
            ]
          },
          "metadata": {},
          "execution_count": 11
        }
      ]
    },
    {
      "cell_type": "code",
      "source": [
        "#Random Forest\n",
        "\n",
        "rus = RandomUnderSampler(replacement=False, random_state=42)\n",
        "rf_under_sampling = make_pipeline(rus, RandomForestClassifier(random_state=42))\n",
        "\n",
        "scores = cross_validate(rf_under_sampling, X_dev, y_dev, cv=10, scoring=[\"roc_auc\", \"average_precision\"])\n",
        "scores[\"test_roc_auc\"].mean(), scores[\"test_average_precision\"].mean()"
      ],
      "metadata": {
        "colab": {
          "base_uri": "https://localhost:8080/"
        },
        "id": "SIW0dYEMaY1i",
        "outputId": "fbabfe04-b0e1-4ac8-82ec-bbf13c415ea7"
      },
      "execution_count": 12,
      "outputs": [
        {
          "output_type": "execute_result",
          "data": {
            "text/plain": [
              "(0.9430329687084388, 0.6189073324753069)"
            ]
          },
          "metadata": {},
          "execution_count": 12
        }
      ]
    },
    {
      "cell_type": "markdown",
      "source": [
        "# Syntheic Minority Oversampling Technique (SMOTE)"
      ],
      "metadata": {
        "id": "ZfZ-SL3WldOg"
      }
    },
    {
      "cell_type": "code",
      "source": [
        "# Oversampling for Logistic Regression\n",
        "\n",
        "ros = RandomOverSampler(random_state=42)\n",
        "oversamplig_pipe = make_pipeline(ros, LogisticRegression())\n",
        "scores = cross_validate(oversamplig_pipe, X_dev, y_dev, cv=10, scoring=[\"roc_auc\", \"average_precision\"])\n",
        "scores[\"test_roc_auc\"].mean(), scores[\"test_average_precision\"].mean()\n"
      ],
      "metadata": {
        "colab": {
          "base_uri": "https://localhost:8080/"
        },
        "id": "hcrTUxPFlleO",
        "outputId": "5195e58a-3800-4315-a319-daaa14430c69"
      },
      "execution_count": 13,
      "outputs": [
        {
          "output_type": "execute_result",
          "data": {
            "text/plain": [
              "(0.9130371409810945, 0.528769916053271)"
            ]
          },
          "metadata": {},
          "execution_count": 13
        }
      ]
    },
    {
      "cell_type": "code",
      "source": [
        "#SMOTE for LogisticRegression\n",
        "smote = SMOTE(random_state=42)\n",
        "smote_pipe = make_pipeline(smote, LogisticRegression())\n",
        "scores = cross_validate(smote_pipe, X_dev, y_dev, cv=10, scoring=[\"roc_auc\", \"average_precision\"])\n",
        "scores[\"test_roc_auc\"].mean(), scores[\"test_average_precision\"].mean()\n",
        "\n",
        "\n"
      ],
      "metadata": {
        "colab": {
          "base_uri": "https://localhost:8080/"
        },
        "id": "q0q1sW20mK8S",
        "outputId": "45217279-80ab-4557-9d4d-a9f3083c1a68"
      },
      "execution_count": 14,
      "outputs": [
        {
          "output_type": "execute_result",
          "data": {
            "text/plain": [
              "(0.9140841600178045, 0.5180001398437423)"
            ]
          },
          "metadata": {},
          "execution_count": 14
        }
      ]
    },
    {
      "cell_type": "code",
      "source": [
        "# Oversampling for RandomForestClassifier\n",
        "\n",
        "ros = RandomOverSampler(random_state=42)\n",
        "oversamplig_pipe = make_pipeline(ros, RandomForestClassifier())\n",
        "scores = cross_validate(oversamplig_pipe, X_dev, y_dev, cv=10, scoring=[\"roc_auc\", \"average_precision\"])\n",
        "scores[\"test_roc_auc\"].mean(), scores[\"test_average_precision\"].mean()"
      ],
      "metadata": {
        "colab": {
          "base_uri": "https://localhost:8080/"
        },
        "id": "hW0lYRtmm1Zb",
        "outputId": "4fe89946-f654-4cba-eebb-b1db5f4b5ea4"
      },
      "execution_count": 15,
      "outputs": [
        {
          "output_type": "execute_result",
          "data": {
            "text/plain": [
              "(0.9163401144426881, 0.6981914133131374)"
            ]
          },
          "metadata": {},
          "execution_count": 15
        }
      ]
    },
    {
      "cell_type": "code",
      "source": [
        "#SMOTE for RandomForestClassifier\n",
        "\n",
        "smote = SMOTE(random_state=42)\n",
        "smote_pipe = make_pipeline(smote, RandomForestClassifier())\n",
        "scores = cross_validate(smote_pipe, X_dev, y_dev, cv=10, scoring=[\"roc_auc\", \"average_precision\"])\n",
        "scores[\"test_roc_auc\"].mean(), scores[\"test_average_precision\"].mean()"
      ],
      "metadata": {
        "colab": {
          "base_uri": "https://localhost:8080/"
        },
        "id": "4j6nQWu_m8k0",
        "outputId": "b1a41380-0315-4e48-f567-4e7e3e2c1fe5"
      },
      "execution_count": 16,
      "outputs": [
        {
          "output_type": "execute_result",
          "data": {
            "text/plain": [
              "(0.9310605005591324, 0.6972400717305248)"
            ]
          },
          "metadata": {},
          "execution_count": 16
        }
      ]
    },
    {
      "cell_type": "code",
      "source": [
        "param_grid = {'smote__k_neighbors': np.arange(1,20, 2)}\n",
        "gs = GridSearchCV(smote_pipe, param_grid, cv=10, scoring=\"average_precision\", return_train_score=True )\n",
        "gs.fit(X_dev, y_dev)\n",
        "results = pd.DataFrame(gs.cv_results_)\n",
        "results.plot('param_smote__k_neighbors', ['mean_test_score', 'mean_train_score'])\n",
        "\n",
        "\n",
        "\n"
      ],
      "metadata": {
        "colab": {
          "base_uri": "https://localhost:8080/",
          "height": 467
        },
        "id": "XDHaqH2GoOWj",
        "outputId": "fa377de5-f89e-4a93-de99-54b8d7a7fa19"
      },
      "execution_count": 17,
      "outputs": [
        {
          "output_type": "execute_result",
          "data": {
            "text/plain": [
              "<Axes: xlabel='param_smote__k_neighbors'>"
            ]
          },
          "metadata": {},
          "execution_count": 17
        },
        {
          "output_type": "display_data",
          "data": {
            "text/plain": [
              "<Figure size 640x480 with 1 Axes>"
            ],
            "image/png": "[encoded data removed]"
          },
          "metadata": {}
        }
      ]
    },
    {
      "cell_type": "markdown",
      "source": [
        "# Adding Class Weights"
      ],
      "metadata": {
        "id": "QT87a5KX1HhR"
      }
    },
    {
      "cell_type": "code",
      "source": [
        "# Logistic Regression\n",
        "scores = cross_validate(LogisticRegressionCV(), X_dev, y_dev, cv=10, scoring=[\"roc_auc\", \"average_precision\"])\n",
        "scores[\"test_roc_auc\"].mean(), scores[\"test_average_precision\"].mean()\n",
        "\n",
        "\n"
      ],
      "metadata": {
        "colab": {
          "base_uri": "https://localhost:8080/"
        },
        "id": "kFMDKC7B1LP4",
        "outputId": "b8e980e5-d31e-4eed-978e-c272719b0542"
      },
      "execution_count": 18,
      "outputs": [
        {
          "output_type": "execute_result",
          "data": {
            "text/plain": [
              "(0.9046980053787539, 0.6063330397221185)"
            ]
          },
          "metadata": {},
          "execution_count": 18
        }
      ]
    },
    {
      "cell_type": "code",
      "source": [
        "#adding class weights\n",
        "scores = cross_validate(LogisticRegressionCV(class_weight=\"balanced\"), X_dev, y_dev, cv=10, scoring=[\"roc_auc\", \"average_precision\"])\n",
        "scores[\"test_roc_auc\"].mean(), scores[\"test_average_precision\"].mean()"
      ],
      "metadata": {
        "colab": {
          "base_uri": "https://localhost:8080/"
        },
        "id": "9ejhVHQs2Rpz",
        "outputId": "d5034717-76ad-4cff-f384-fa2e1047ab50"
      },
      "execution_count": 19,
      "outputs": [
        {
          "output_type": "execute_result",
          "data": {
            "text/plain": [
              "(0.9067232200664517, 0.5724649513533766)"
            ]
          },
          "metadata": {},
          "execution_count": 19
        }
      ]
    },
    {
      "cell_type": "code",
      "source": [
        "#Random Forest\n",
        "scores = cross_validate(RandomForestClassifier(), X_dev, y_dev, cv=10, scoring=[\"roc_auc\", \"average_precision\"])\n",
        "scores[\"test_roc_auc\"].mean(), scores[\"test_average_precision\"].mean()\n"
      ],
      "metadata": {
        "colab": {
          "base_uri": "https://localhost:8080/"
        },
        "id": "3uB0rpgX209x",
        "outputId": "288cd1d0-55f1-4eaf-b3f7-26e83e390451"
      },
      "execution_count": 20,
      "outputs": [
        {
          "output_type": "execute_result",
          "data": {
            "text/plain": [
              "(0.9298528194583774, 0.7238693090873689)"
            ]
          },
          "metadata": {},
          "execution_count": 20
        }
      ]
    },
    {
      "cell_type": "code",
      "source": [
        "#adding class weights\n",
        "scores = cross_validate(RandomForestClassifier(class_weight=\"balanced\"), X_dev, y_dev, cv=10, scoring=[\"roc_auc\", \"average_precision\"])\n",
        "scores[\"test_roc_auc\"].mean(), scores[\"test_average_precision\"].mean()\n",
        "\n"
      ],
      "metadata": {
        "colab": {
          "base_uri": "https://localhost:8080/"
        },
        "id": "29FS3dO_28Wr",
        "outputId": "008c4896-3a33-4a11-8fdc-c226ea1eca1d"
      },
      "execution_count": 21,
      "outputs": [
        {
          "output_type": "execute_result",
          "data": {
            "text/plain": [
              "(0.9021050228789266, 0.6935467026659059)"
            ]
          },
          "metadata": {},
          "execution_count": 21
        }
      ]
    },
    {
      "cell_type": "markdown",
      "source": [
        "# Learning Sparse Data"
      ],
      "metadata": {
        "id": "iyR6wANhajRa"
      }
    },
    {
      "cell_type": "code",
      "source": [
        "# Variance based filtering\n",
        "var_thresholds = [1e-5, 5e-5, 1e-4, 5e-4, 1e-3,]\n",
        "dev_scores = []\n",
        "test_scores =[]\n",
        "n_features = []\n",
        "for threshold in var_thresholds:\n",
        "    pipe = make_pipeline(VarianceThreshold(threshold), LogisticRegression())\n",
        "    pipe.fit(X_dev, y_dev)\n",
        "    n_features.append(len(pipe.named_steps[\"variancethreshold\"].get_support(indices=True)))\n",
        "    dev_scores.append(pipe.score(X_dev, y_dev))\n",
        "    test_scores.append(pipe.score(X_test, y_test))\n",
        "\n",
        "\n",
        "\n"
      ],
      "metadata": {
        "id": "r7cGvZ7LXRII"
      },
      "execution_count": 22,
      "outputs": []
    },
    {
      "cell_type": "code",
      "source": [
        "#Univariate Feature Selection\n",
        "n_features = [5,10,100,500,1000, 1500, 2000]\n",
        "dev_scores = []\n",
        "test_scores =[]\n",
        "n_features = []\n",
        "for features in n_features:\n",
        "    pipe = make_pipeline(SelectKBest(chi2, k=features), LogisticRegression())\n",
        "    pipe.fit(X_dev, y_dev)\n",
        "    dev_scores.append(pipe.score(X_dev, y_dev))\n",
        "    test_scores.append(pipe.score(X_test, y_test))\n"
      ],
      "metadata": {
        "id": "ZHS3mt8qXK0J"
      },
      "execution_count": 26,
      "outputs": []
    },
    {
      "cell_type": "code",
      "source": [
        "# Principal Component Analysis (PCA)\n",
        "scaler = StandardScaler()\n",
        "dev_X_transformed = scaler.fit_transform(X_dev)\n",
        "test_X_transformed = scaler.transform(X_test)\n",
        "n_pc = [10, 50, 100, 500, 1000]\n",
        "dev_scores = []\n",
        "test_scores =[]\n",
        "n_features = []\n",
        "for pc in n_pc:\n",
        "    pipe = make_pipeline(PCA(n_components=pc), LogisticRegression())\n",
        "    pipe.fit(dev_X_transformed, y_dev)\n",
        "    dev_scores.append(pipe.score(dev_X_transformed, y_dev))\n",
        "    test_scores.append(pipe.score(test_X_transformed, y_test))"
      ],
      "metadata": {
        "id": "O4vtKIfMx6Lr"
      },
      "execution_count": 31,
      "outputs": []
    },
    {
      "cell_type": "code",
      "source": [
        "#Feature Hashing\n",
        "n_features = [5,10,100,500,1000, 1500, 2000]\n",
        "dev_scores = []\n",
        "test_scores =[]\n",
        "n_features = []\n",
        "for features in n_features:\n",
        "    pipe = make_pipeline(SelectKBest(chi2, k=features), LogisticRegression())\n",
        "    pipe.fit(X_dev, y_dev)\n",
        "    dev_scores.append(pipe.score(X_dev, y_dev))\n",
        "    test_scores.append(pipe.score(X_test, y_test))\n",
        "\n"
      ],
      "metadata": {
        "id": "uElWNrrC7Hoj"
      },
      "execution_count": 32,
      "outputs": []
    }
  ]
}