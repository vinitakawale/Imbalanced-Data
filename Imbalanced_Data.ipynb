{
  "nbformat": 4,
  "nbformat_minor": 0,
  "metadata": {
    "colab": {
      "provenance": [],
      "authorship_tag": "ABX9TyNIWfdsrgfvSbNlbLiQ0JBt",
      "include_colab_link": true
    },
    "kernelspec": {
      "name": "python3",
      "display_name": "Python 3"
    },
    "language_info": {
      "name": "python"
    }
  },
  "cells": [
    {
      "cell_type": "markdown",
      "metadata": {
        "id": "view-in-github",
        "colab_type": "text"
      },
      "source": [
        "<a href=\"https://colab.research.google.com/github/vinitakawale/Imbalanced-Data/blob/main/Imbalanced_Data.ipynb\" target=\"_parent\"><img src=\"https://colab.research.google.com/assets/colab-badge.svg\" alt=\"Open In Colab\"/></a>"
      ]
    },
    {
      "cell_type": "code",
      "source": [
        "import pandas as pd\n",
        "import numpy as np\n",
        "from sklearn.datasets import fetch_openml\n",
        "from sklearn.model_selection import train_test_split\n",
        "from sklearn.model_selection import cross_validate\n",
        "from sklearn.linear_model import LogisticRegression\n",
        "from sklearn.tree import DecisionTreeClassifier\n",
        "from sklearn.ensemble import RandomForestClassifier\n",
        "from imblearn.over_sampling import RandomOverSampler\n",
        "from imblearn.under_sampling import RandomUnderSampler\n",
        "from imblearn.over_sampling import SMOTE\n",
        "from sklearn.ensemble import BaggingClassifier\n",
        "from sklearn.metrics import roc_auc_score, roc_curve, auc\n",
        "from sklearn.metrics import confusion_matrix, ConfusionMatrixDisplay\n",
        "from imblearn.pipeline import make_pipeline\n",
        "from sklearn.model_selection import GridSearchCV\n",
        "from sklearn.linear_model import LogisticRegressionCV\n",
        "from sklearn.feature_selection import VarianceThreshold\n",
        "\n"
      ],
      "metadata": {
        "id": "HLyPjofZu16b"
      },
      "execution_count": null,
      "outputs": []
    },
    {
      "cell_type": "markdown",
      "source": [
        "# Step 1: Downloading dataset from open ML repository"
      ],
      "metadata": {
        "id": "dHB2K2q70TUq"
      }
    },
    {
      "cell_type": "code",
      "execution_count": null,
      "metadata": {
        "colab": {
          "base_uri": "https://localhost:8080/"
        },
        "id": "ZN0gCNIPujRN",
        "outputId": "30cc425d-0ed8-4f00-e49a-9c256cec6741"
      },
      "outputs": [
        {
          "output_type": "stream",
          "name": "stderr",
          "text": [
            "/usr/local/lib/python3.10/dist-packages/sklearn/datasets/_openml.py:968: FutureWarning: The default value of `parser` will change from `'liac-arff'` to `'auto'` in 1.4. You can set `parser='auto'` to silence this warning. Therefore, an `ImportError` will be raised from 1.4 if the dataset is dense and pandas is not installed. Note that the pandas parser may return different data types. See the Notes Section in fetch_openml's API doc for details.\n",
            "  warn(\n"
          ]
        },
        {
          "output_type": "stream",
          "name": "stdout",
          "text": [
            "Value counts -1    10923\n",
            "1       260\n",
            "Name: class, dtype: int64\n",
            "Shape (11183, 6)\n"
          ]
        }
      ],
      "source": [
        "data = fetch_openml(\"mammography\", as_frame=True)\n",
        "\n",
        "X, y = data[\"data\"], data[\"target\"]\n",
        "\n",
        "print(\"Value counts\", y.value_counts())\n",
        "print(\"Shape\", X.shape)\n",
        "\n",
        "\n",
        "\n",
        "\n",
        "\n",
        "\n"
      ]
    },
    {
      "cell_type": "markdown",
      "source": [
        "# Step 2: Split Data into development and test sets"
      ],
      "metadata": {
        "id": "nEkj94Vv0j_Z"
      }
    },
    {
      "cell_type": "code",
      "source": [
        "X_dev, X_test, y_dev, y_test = train_test_split(data.data, data.target == '1', stratify=data.target, test_size=0.2, random_state=42)\n",
        "\n",
        "#Observe imbalance in the ratio\n",
        "y_dev.value_counts(normalize=True)\n",
        "y_test.value_counts(normalize=True)\n",
        "\n",
        "\n",
        "\n"
      ],
      "metadata": {
        "colab": {
          "base_uri": "https://localhost:8080/"
        },
        "id": "PZpfKEXnwbu2",
        "outputId": "8677ce9e-3610-4af9-e9a6-ad9b43434f99"
      },
      "execution_count": null,
      "outputs": [
        {
          "output_type": "execute_result",
          "data": {
            "text/plain": [
              "False    0.976755\n",
              "True     0.023245\n",
              "Name: class, dtype: float64"
            ]
          },
          "metadata": {},
          "execution_count": 14
        }
      ]
    },
    {
      "cell_type": "markdown",
      "source": [],
      "metadata": {
        "id": "qsOqotV40xpE"
      }
    },
    {
      "cell_type": "markdown",
      "source": [
        "# Training Classifiers\n",
        "comparing scores for various classifiers on the imbalanced dataset before we apply balancing techniques\n"
      ],
      "metadata": {
        "id": "gRRZAbK91_ZG"
      }
    },
    {
      "cell_type": "code",
      "source": [
        "# Logistic Regression\n",
        "\n",
        "scores = cross_validate(LogisticRegression(), X_dev, y_dev, cv=10, scoring=[\"roc_auc\", \"average_precision\"]);\n",
        "scores[\"test_roc_auc\"].mean(), scores[\"test_average_precision\"].mean()"
      ],
      "metadata": {
        "colab": {
          "base_uri": "https://localhost:8080/"
        },
        "id": "wwRTCNt50xDu",
        "outputId": "7f84e861-9529-4525-83ea-ff2c628305ad"
      },
      "execution_count": null,
      "outputs": [
        {
          "output_type": "execute_result",
          "data": {
            "text/plain": [
              "(0.9047435182719985, 0.6045937994904842)"
            ]
          },
          "metadata": {},
          "execution_count": 19
        }
      ]
    },
    {
      "cell_type": "code",
      "source": [
        "\n",
        "# Random Forest\n",
        "\n",
        "scores = cross_validate(RandomForestClassifier(), X_dev, y_dev, cv=10, scoring=[\"roc_auc\", \"average_precision\"])\n",
        "scores[\"test_roc_auc\"].mean(), scores[\"test_average_precision\"].mean()\n",
        "\n"
      ],
      "metadata": {
        "colab": {
          "base_uri": "https://localhost:8080/"
        },
        "id": "R7emVfR7wbl-",
        "outputId": "87e32b59-0312-4c68-b8aa-6526cd784f38"
      },
      "execution_count": null,
      "outputs": [
        {
          "output_type": "execute_result",
          "data": {
            "text/plain": [
              "(0.9368089090074155, 0.7324034320661028)"
            ]
          },
          "metadata": {},
          "execution_count": 20
        }
      ]
    },
    {
      "cell_type": "markdown",
      "source": [
        "# Applying balancing techniques\n",
        "we will apply various balancing strategies and observe the scores on the imbalanced and balanced datasets"
      ],
      "metadata": {
        "id": "xZ-RL0WEEggY"
      }
    },
    {
      "cell_type": "markdown",
      "source": [
        "# Technique 1: Random Undersampling"
      ],
      "metadata": {
        "id": "-5vVCT28FJKR"
      }
    },
    {
      "cell_type": "code",
      "source": [
        "# Comparing Logistic Regression before and after Random Undersampling\n",
        "\n",
        "rus = RandomUnderSampler(replacement=False, random_state=42)\n",
        "sample_pipe = make_pipeline(rus, LogisticRegression())\n",
        "\n",
        "scores = cross_validate(sample_pipe, X_dev, y_dev, cv=10, scoring=[\"roc_auc\", \"average_precision\"])\n",
        "scores[\"test_roc_auc\"].mean(), scores[\"test_average_precision\"].mean()\n",
        "\n",
        "\n",
        "\n",
        "\n",
        "\n",
        "\n"
      ],
      "metadata": {
        "colab": {
          "base_uri": "https://localhost:8080/",
          "height": 245
        },
        "id": "_kNhrNUZE6Ai",
        "outputId": "d1378720-3922-41ca-f8e7-1b62970776a2"
      },
      "execution_count": null,
      "outputs": [
        {
          "output_type": "error",
          "ename": "NameError",
          "evalue": "ignored",
          "traceback": [
            "\u001b[0;31m---------------------------------------------------------------------------\u001b[0m",
            "\u001b[0;31mNameError\u001b[0m                                 Traceback (most recent call last)",
            "\u001b[0;32m<ipython-input-2-71fa4aa3a554>\u001b[0m in \u001b[0;36m<cell line: 3>\u001b[0;34m()\u001b[0m\n\u001b[1;32m      1\u001b[0m \u001b[0;31m# Comparing Logistic Regression before and after Random Undersampling\u001b[0m\u001b[0;34m\u001b[0m\u001b[0;34m\u001b[0m\u001b[0m\n\u001b[1;32m      2\u001b[0m \u001b[0;34m\u001b[0m\u001b[0m\n\u001b[0;32m----> 3\u001b[0;31m \u001b[0mrus\u001b[0m \u001b[0;34m=\u001b[0m \u001b[0mRandomUnderSampler\u001b[0m\u001b[0;34m(\u001b[0m\u001b[0mreplacement\u001b[0m\u001b[0;34m=\u001b[0m\u001b[0;32mFalse\u001b[0m\u001b[0;34m,\u001b[0m \u001b[0mrandom_state\u001b[0m\u001b[0;34m=\u001b[0m\u001b[0;36m42\u001b[0m\u001b[0;34m)\u001b[0m\u001b[0;34m\u001b[0m\u001b[0;34m\u001b[0m\u001b[0m\n\u001b[0m\u001b[1;32m      4\u001b[0m \u001b[0msample_pipe\u001b[0m \u001b[0;34m=\u001b[0m \u001b[0mmake_pipeline\u001b[0m\u001b[0;34m(\u001b[0m\u001b[0mrus\u001b[0m\u001b[0;34m,\u001b[0m \u001b[0mLogisticRegression\u001b[0m\u001b[0;34m(\u001b[0m\u001b[0;34m)\u001b[0m\u001b[0;34m)\u001b[0m\u001b[0;34m\u001b[0m\u001b[0;34m\u001b[0m\u001b[0m\n\u001b[1;32m      5\u001b[0m \u001b[0;34m\u001b[0m\u001b[0m\n",
            "\u001b[0;31mNameError\u001b[0m: name 'RandomUnderSampler' is not defined"
          ]
        }
      ]
    },
    {
      "cell_type": "markdown",
      "source": [
        "# Technique 2: Random Oversampling"
      ],
      "metadata": {
        "id": "RUc2QJ0fhzJX"
      }
    },
    {
      "cell_type": "code",
      "source": [
        "\n",
        "ros = RandomOverSampler()\n",
        "X_dev_ros, y_dev_ros = ros.fit_resample(X_dev, y_dev)\n",
        "\n",
        "print(X_dev.shape)\n",
        "print(X_dev_ros.shape)\n",
        "y_dev_ros.value_counts(normalize=True)\n",
        "\n",
        "\n",
        "\n",
        "\n",
        "\n",
        "\n",
        "\n",
        "\n",
        "\n"
      ],
      "metadata": {
        "colab": {
          "base_uri": "https://localhost:8080/"
        },
        "id": "owIBDvxIh5pg",
        "outputId": "dd5078a8-b015-401c-cf9f-c628063129ee"
      },
      "execution_count": null,
      "outputs": [
        {
          "output_type": "stream",
          "name": "stdout",
          "text": [
            "(8946, 6)\n",
            "(17476, 6)\n"
          ]
        },
        {
          "output_type": "execute_result",
          "data": {
            "text/plain": [
              "False    0.5\n",
              "True     0.5\n",
              "Name: class, dtype: float64"
            ]
          },
          "metadata": {},
          "execution_count": 29
        }
      ]
    },
    {
      "cell_type": "code",
      "source": [
        "y_dev_ros.value_counts()"
      ],
      "metadata": {
        "colab": {
          "base_uri": "https://localhost:8080/"
        },
        "id": "7KbyaIiGoi9O",
        "outputId": "42567d13-98c3-4858-f5eb-8ce90ffc0670"
      },
      "execution_count": null,
      "outputs": [
        {
          "output_type": "execute_result",
          "data": {
            "text/plain": [
              "False    8738\n",
              "True     8738\n",
              "Name: class, dtype: int64"
            ]
          },
          "metadata": {},
          "execution_count": 30
        }
      ]
    },
    {
      "cell_type": "code",
      "source": [],
      "metadata": {
        "id": "eVXHXoMyp4A1"
      },
      "execution_count": null,
      "outputs": []
    },
    {
      "cell_type": "code",
      "source": [
        "# Comparing Logistic Regression before and after Random Oversampling\n",
        "\n",
        "ros = RandomOverSampler()\n",
        "sample_pipe = make_pipeline(ros, LogisticRegression())\n",
        "\n",
        "scores = cross_validate(sample_pipe, X_dev, y_dev, cv=10, scoring=[\"roc_auc\", \"average_precision\"])\n",
        "scores[\"test_roc_auc\"].mean(), scores[\"test_average_precision\"].mean()\n",
        "\n",
        "\n"
      ],
      "metadata": {
        "colab": {
          "base_uri": "https://localhost:8080/"
        },
        "id": "H-H_5CMnpK1O",
        "outputId": "01562396-3adb-4258-a126-e974d4fedcda"
      },
      "execution_count": null,
      "outputs": [
        {
          "output_type": "execute_result",
          "data": {
            "text/plain": [
              "(0.9120348759305503, 0.5275420679117414)"
            ]
          },
          "metadata": {},
          "execution_count": 31
        }
      ]
    },
    {
      "cell_type": "code",
      "source": [
        "# Comparing Random Forest Classifier before and after Random Oversampling\n",
        "\n",
        "ros = RandomOverSampler()\n",
        "sample_pipe = make_pipeline(ros, RandomForestClassifier())\n",
        "\n",
        "scores = cross_validate(sample_pipe, X_dev, y_dev, cv=10, scoring=[\"roc_auc\", \"average_precision\"])\n",
        "scores[\"test_roc_auc\"].mean(), scores[\"test_average_precision\"].mean()\n"
      ],
      "metadata": {
        "colab": {
          "base_uri": "https://localhost:8080/"
        },
        "id": "dgBMygpPr5l6",
        "outputId": "ddfa8ec5-2eef-4603-c6bf-02b859b263f9"
      },
      "execution_count": null,
      "outputs": [
        {
          "output_type": "execute_result",
          "data": {
            "text/plain": [
              "(0.9097648754836941, 0.6962260457620322)"
            ]
          },
          "metadata": {},
          "execution_count": 32
        }
      ]
    },
    {
      "cell_type": "markdown",
      "source": [
        "# 3. Ensemble Resampling"
      ],
      "metadata": {
        "id": "I539CgiXYEDt"
      }
    },
    {
      "cell_type": "code",
      "source": [
        "#Bagging\n",
        "\n",
        "rus = RandomUnderSampler(replacement=False, random_state=42)\n",
        "tree = DecisionTreeClassifier(max_features=\"auto\", random_state=42)\n",
        "under_sampling_bagging = make_pipeline(rus, BaggingClassifier(base_estimator=tree,random_state=42))\n",
        "\n",
        "scores = cross_validate(under_sampling_bagging, X_dev, y_dev, cv=10, scoring=[\"roc_auc\", \"average_precision\"])\n",
        "scores[\"test_roc_auc\"].mean(), scores[\"test_average_precision\"].mean()\n",
        "\n",
        "\n",
        "\n",
        "\n",
        "\n",
        "\n"
      ],
      "metadata": {
        "colab": {
          "base_uri": "https://localhost:8080/"
        },
        "id": "opZh_pnKYI4Y",
        "outputId": "d25564c1-bb1b-434e-cd73-0ca1c28f8477"
      },
      "execution_count": null,
      "outputs": [
        {
          "output_type": "stream",
          "name": "stderr",
          "text": [
            "/usr/local/lib/python3.10/dist-packages/sklearn/ensemble/_base.py:166: FutureWarning: `base_estimator` was renamed to `estimator` in version 1.2 and will be removed in 1.4.\n",
            "  warnings.warn(\n",
            "/usr/local/lib/python3.10/dist-packages/sklearn/ensemble/_base.py:166: FutureWarning: `base_estimator` was renamed to `estimator` in version 1.2 and will be removed in 1.4.\n",
            "  warnings.warn(\n",
            "/usr/local/lib/python3.10/dist-packages/sklearn/ensemble/_base.py:166: FutureWarning: `base_estimator` was renamed to `estimator` in version 1.2 and will be removed in 1.4.\n",
            "  warnings.warn(\n",
            "/usr/local/lib/python3.10/dist-packages/sklearn/ensemble/_base.py:166: FutureWarning: `base_estimator` was renamed to `estimator` in version 1.2 and will be removed in 1.4.\n",
            "  warnings.warn(\n",
            "/usr/local/lib/python3.10/dist-packages/sklearn/ensemble/_base.py:166: FutureWarning: `base_estimator` was renamed to `estimator` in version 1.2 and will be removed in 1.4.\n",
            "  warnings.warn(\n",
            "/usr/local/lib/python3.10/dist-packages/sklearn/ensemble/_base.py:166: FutureWarning: `base_estimator` was renamed to `estimator` in version 1.2 and will be removed in 1.4.\n",
            "  warnings.warn(\n",
            "/usr/local/lib/python3.10/dist-packages/sklearn/ensemble/_base.py:166: FutureWarning: `base_estimator` was renamed to `estimator` in version 1.2 and will be removed in 1.4.\n",
            "  warnings.warn(\n",
            "/usr/local/lib/python3.10/dist-packages/sklearn/ensemble/_base.py:166: FutureWarning: `base_estimator` was renamed to `estimator` in version 1.2 and will be removed in 1.4.\n",
            "  warnings.warn(\n",
            "/usr/local/lib/python3.10/dist-packages/sklearn/ensemble/_base.py:166: FutureWarning: `base_estimator` was renamed to `estimator` in version 1.2 and will be removed in 1.4.\n",
            "  warnings.warn(\n",
            "/usr/local/lib/python3.10/dist-packages/sklearn/ensemble/_base.py:166: FutureWarning: `base_estimator` was renamed to `estimator` in version 1.2 and will be removed in 1.4.\n",
            "  warnings.warn(\n"
          ]
        },
        {
          "output_type": "execute_result",
          "data": {
            "text/plain": [
              "(0.938411825919198, 0.458717954029249)"
            ]
          },
          "metadata": {},
          "execution_count": 8
        }
      ]
    },
    {
      "cell_type": "code",
      "source": [
        "#Random Forest\n",
        "\n",
        "rus = RandomUnderSampler(replacement=False, random_state=42)\n",
        "rf_under_sampling = make_pipeline(rus, RandomForestClassifier(random_state=42))\n",
        "\n",
        "scores = cross_validate(rf_under_sampling, X_dev, y_dev, cv=10, scoring=[\"roc_auc\", \"average_precision\"])\n",
        "scores[\"test_roc_auc\"].mean(), scores[\"test_average_precision\"].mean()"
      ],
      "metadata": {
        "colab": {
          "base_uri": "https://localhost:8080/"
        },
        "id": "SIW0dYEMaY1i",
        "outputId": "448bf741-adf1-46a7-9d55-6f768d39e50d"
      },
      "execution_count": null,
      "outputs": [
        {
          "output_type": "execute_result",
          "data": {
            "text/plain": [
              "(0.9430329687084388, 0.6189073324753069)"
            ]
          },
          "metadata": {},
          "execution_count": 9
        }
      ]
    },
    {
      "cell_type": "markdown",
      "source": [
        "# Syntheic Minority Oversampling Technique (SMOTE)"
      ],
      "metadata": {
        "id": "ZfZ-SL3WldOg"
      }
    },
    {
      "cell_type": "code",
      "source": [
        "# Oversampling for Logistic Regression\n",
        "\n",
        "ros = RandomOverSampler(random_state=42)\n",
        "oversamplig_pipe = make_pipeline(ros, LogisticRegression())\n",
        "scores = cross_validate(oversamplig_pipe, X_dev, y_dev, cv=10, scoring=[\"roc_auc\", \"average_precision\"])\n",
        "scores[\"test_roc_auc\"].mean(), scores[\"test_average_precision\"].mean()\n"
      ],
      "metadata": {
        "colab": {
          "base_uri": "https://localhost:8080/"
        },
        "id": "hcrTUxPFlleO",
        "outputId": "92c7e0e0-fd79-40b0-9a01-62580a53e04f"
      },
      "execution_count": null,
      "outputs": [
        {
          "output_type": "execute_result",
          "data": {
            "text/plain": [
              "(0.9130371409810945, 0.528769916053271)"
            ]
          },
          "metadata": {},
          "execution_count": 10
        }
      ]
    },
    {
      "cell_type": "code",
      "source": [
        "#SMOTE for LogisticRegression\n",
        "smote = SMOTE(random_state=42)\n",
        "smote_pipe = make_pipeline(smote, LogisticRegression())\n",
        "scores = cross_validate(smote_pipe, X_dev, y_dev, cv=10, scoring=[\"roc_auc\", \"average_precision\"])\n",
        "scores[\"test_roc_auc\"].mean(), scores[\"test_average_precision\"].mean()\n",
        "\n",
        "\n"
      ],
      "metadata": {
        "colab": {
          "base_uri": "https://localhost:8080/"
        },
        "id": "q0q1sW20mK8S",
        "outputId": "1f05a242-1d21-48f9-a50a-062eccb25d92"
      },
      "execution_count": null,
      "outputs": [
        {
          "output_type": "execute_result",
          "data": {
            "text/plain": [
              "(0.9140841600178045, 0.5180001398437423)"
            ]
          },
          "metadata": {},
          "execution_count": 11
        }
      ]
    },
    {
      "cell_type": "code",
      "source": [
        "# Oversampling for RandomForestClassifier\n",
        "\n",
        "ros = RandomOverSampler(random_state=42)\n",
        "oversamplig_pipe = make_pipeline(ros, RandomForestClassifier())\n",
        "scores = cross_validate(oversamplig_pipe, X_dev, y_dev, cv=10, scoring=[\"roc_auc\", \"average_precision\"])\n",
        "scores[\"test_roc_auc\"].mean(), scores[\"test_average_precision\"].mean()"
      ],
      "metadata": {
        "colab": {
          "base_uri": "https://localhost:8080/"
        },
        "id": "hW0lYRtmm1Zb",
        "outputId": "6d5ff197-d7ee-4fb3-e314-6d641ae8a8d3"
      },
      "execution_count": null,
      "outputs": [
        {
          "output_type": "execute_result",
          "data": {
            "text/plain": [
              "(0.9189493440134525, 0.7016341981496843)"
            ]
          },
          "metadata": {},
          "execution_count": 12
        }
      ]
    },
    {
      "cell_type": "code",
      "source": [
        "#SMOTE for RandomForestClassifier\n",
        "\n",
        "smote = SMOTE(random_state=42)\n",
        "smote_pipe = make_pipeline(smote, RandomForestClassifier())\n",
        "scores = cross_validate(smote_pipe, X_dev, y_dev, cv=10, scoring=[\"roc_auc\", \"average_precision\"])\n",
        "scores[\"test_roc_auc\"].mean(), scores[\"test_average_precision\"].mean()"
      ],
      "metadata": {
        "colab": {
          "base_uri": "https://localhost:8080/"
        },
        "id": "4j6nQWu_m8k0",
        "outputId": "287c5f5a-b279-4124-8739-b441e82a0796"
      },
      "execution_count": null,
      "outputs": [
        {
          "output_type": "execute_result",
          "data": {
            "text/plain": [
              "(0.9140841600178045, 0.5180001398437423)"
            ]
          },
          "metadata": {},
          "execution_count": 13
        }
      ]
    },
    {
      "cell_type": "code",
      "source": [
        "param_grid = {'smote__k_neighbors': np.arange(1,20, 2)}\n",
        "gs = GridSearchCV(smote_pipe, param_grid, cv=10, scoring=\"average_precision\", return_train_score=True )\n",
        "gs.fit(X_dev, y_dev)\n",
        "results = pd.DataFrame(gs.cv_results_)\n",
        "results.plot('param_smote__k_neighbors', ['mean_test_score', 'mean_train_score'])\n",
        "\n",
        "\n",
        "\n"
      ],
      "metadata": {
        "colab": {
          "base_uri": "https://localhost:8080/",
          "height": 467
        },
        "id": "XDHaqH2GoOWj",
        "outputId": "9a280076-44d1-4620-9149-299e454c9fd4"
      },
      "execution_count": null,
      "outputs": [
        {
          "output_type": "execute_result",
          "data": {
            "text/plain": [
              "<Axes: xlabel='param_smote__k_neighbors'>"
            ]
          },
          "metadata": {},
          "execution_count": 20
        },
        {
          "output_type": "display_data",
          "data": {
            "text/plain": [
              "<Figure size 640x480 with 1 Axes>"
            ],
            "image/png": "[encoded data removed]"
          },
          "metadata": {}
        }
      ]
    },
    {
      "cell_type": "markdown",
      "source": [
        "# Adding Class Weights"
      ],
      "metadata": {
        "id": "QT87a5KX1HhR"
      }
    },
    {
      "cell_type": "code",
      "source": [
        "# Logistic Regression\n",
        "scores = cross_validate(LogisticRegressionCV(), X_dev, y_dev, cv=10, scoring=[\"roc_auc\", \"average_precision\"])\n",
        "scores[\"test_roc_auc\"].mean(), scores[\"test_average_precision\"].mean()\n",
        "\n",
        "\n"
      ],
      "metadata": {
        "colab": {
          "base_uri": "https://localhost:8080/"
        },
        "id": "kFMDKC7B1LP4",
        "outputId": "7a767c30-8c7d-4737-ebe4-0eef2085d082"
      },
      "execution_count": null,
      "outputs": [
        {
          "output_type": "execute_result",
          "data": {
            "text/plain": [
              "(0.9046980053787539, 0.6063330397221185)"
            ]
          },
          "metadata": {},
          "execution_count": 24
        }
      ]
    },
    {
      "cell_type": "code",
      "source": [
        "#adding class weights\n",
        "scores = cross_validate(LogisticRegressionCV(class_weight=\"balanced\"), X_dev, y_dev, cv=10, scoring=[\"roc_auc\", \"average_precision\"])\n",
        "scores[\"test_roc_auc\"].mean(), scores[\"test_average_precision\"].mean()"
      ],
      "metadata": {
        "colab": {
          "base_uri": "https://localhost:8080/"
        },
        "id": "9ejhVHQs2Rpz",
        "outputId": "abedb896-83bc-4abe-d0e9-0045e12752c2"
      },
      "execution_count": null,
      "outputs": [
        {
          "output_type": "execute_result",
          "data": {
            "text/plain": [
              "(0.9067232200664517, 0.5724649513533766)"
            ]
          },
          "metadata": {},
          "execution_count": 25
        }
      ]
    },
    {
      "cell_type": "code",
      "source": [
        "#Random Forest\n",
        "scores = cross_validate(RandomForestClassifier(), X_dev, y_dev, cv=10, scoring=[\"roc_auc\", \"average_precision\"])\n",
        "scores[\"test_roc_auc\"].mean(), scores[\"test_average_precision\"].mean()\n"
      ],
      "metadata": {
        "colab": {
          "base_uri": "https://localhost:8080/"
        },
        "id": "3uB0rpgX209x",
        "outputId": "72fc550a-16cb-4ce0-85aa-a6ed1c34235a"
      },
      "execution_count": null,
      "outputs": [
        {
          "output_type": "execute_result",
          "data": {
            "text/plain": [
              "(0.9363260693568675, 0.7228247903498367)"
            ]
          },
          "metadata": {},
          "execution_count": 26
        }
      ]
    },
    {
      "cell_type": "code",
      "source": [
        "#adding class weights\n",
        "scores = cross_validate(RandomForestClassifier(class_weight=\"balanced\"), X_dev, y_dev, cv=10, scoring=[\"roc_auc\", \"average_precision\"])\n",
        "scores[\"test_roc_auc\"].mean(), scores[\"test_average_precision\"].mean()\n",
        "\n"
      ],
      "metadata": {
        "colab": {
          "base_uri": "https://localhost:8080/"
        },
        "id": "29FS3dO_28Wr",
        "outputId": "3f635406-e0b9-44bc-866a-6d43372ef104"
      },
      "execution_count": null,
      "outputs": [
        {
          "output_type": "execute_result",
          "data": {
            "text/plain": [
              "(0.9128968617507212, 0.6959791363311798)"
            ]
          },
          "metadata": {},
          "execution_count": 27
        }
      ]
    },
    {
      "cell_type": "markdown",
      "source": [
        "# Learning Sparse Data"
      ],
      "metadata": {
        "id": "iyR6wANhajRa"
      }
    },
    {
      "cell_type": "code",
      "source": [
        "# Variance based filtering\n",
        "var_thresholds = [1e-5, 5e-5, 1e-4, 5e-4, 1e-3,]\n",
        "dev_scores = []\n",
        "test_scores =[]\n",
        "n_features = []\n",
        "for threshold in var_thresholds:\n",
        "    pipe = make_pipeline(VarianceThreshold(threshold), LogisticRegression())\n",
        "    pipe.fit(X_dev, y_dev)\n",
        "    n_features.append(len(pipe.named_steps[\"variancethreshold\"].get_support(indices=True)))\n",
        "    dev_scores.append(pipe.score(X_dev, y_dev))\n",
        "    test_scores.append(pipe.score(X_test, y_test))\n",
        "\n",
        "\n",
        "\n"
      ],
      "metadata": {
        "id": "r7cGvZ7LXRII"
      },
      "execution_count": null,
      "outputs": []
    }
  ]
}